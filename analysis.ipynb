{
 "cells": [
  {
   "cell_type": "code",
   "execution_count": 13,
   "metadata": {},
   "outputs": [
    {
     "name": "stdout",
     "output_type": "stream",
     "text": [
      "File vllm/vllm_tpot_17_tokens_gpu_usage does not exist\n",
      "File vllm/vllm_tpot_191_tokens_gpu_usage does not exist\n",
      "File vllm/vllm_tpot_660_tokens_gpu_usage does not exist\n"
     ]
    }
   ],
   "source": [
    "import pandas as pd\n",
    "import os\n",
    "\n",
    "frameworks = [\"baseline\", \"vllm\", \"exllama\", \"together\"]\n",
    "measurers = [\"ttft\", \"tpot\", \"throughput\"]\n",
    "prompt_sizes = [\"17_tokens\", \"191_tokens\", \"660_tokens\"]\n",
    "result_path = \"results/\"\n",
    "\n",
    "\n",
    "def getFileName(framework, mesurer_name, prompt_size):\n",
    "    return f\"{framework}_{mesurer_name}_{prompt_size}\"\n",
    "\n",
    "\n",
    "def getResult(filename: str):\n",
    "    # check if file exists\n",
    "    if not os.path.isfile(f\"{result_path}{filename}\"):\n",
    "        print(f\"File {filename} does not exist\")\n",
    "        return [0]\n",
    "    with open(f\"{result_path}{filename}\", \"r\") as f:\n",
    "        lines = f.readlines()\n",
    "        data = []\n",
    "        for line in lines:\n",
    "            if \"Iteration\" in line:\n",
    "                data.append(\n",
    "                    float(line.split(\":\")[1].replace(\"GB\", \"\").strip()))\n",
    "    return data\n",
    "\n",
    "\n",
    "def getMeasurerFilePath(framework, mesurer_name, prompt_size):\n",
    "    return f\"{framework}/{framework}_{mesurer_name}_{prompt_size}.txt\"\n",
    "\n",
    "\n",
    "def getGPUUsageFilePath(framework, mesurer_name, prompt_size):\n",
    "    return f\"{framework}/{framework}_{mesurer_name}_{prompt_size}_gpu_usage\"\n",
    "\n",
    "\n",
    "def combineResults() -> pd.DataFrame:\n",
    "    df = pd.DataFrame()\n",
    "    df[\"framework\"] = []\n",
    "    df[\"measurer\"] = []\n",
    "    df[\"prompt_size\"] = []\n",
    "    df[\"iterations\"] = []\n",
    "    df[\"average\"] = []\n",
    "    df[\"max\"] = []\n",
    "    df[\"min\"] = []\n",
    "    df[\"std\"] = []\n",
    "    df[\"gpu_usage\"] = []\n",
    "\n",
    "    for framework in frameworks:\n",
    "        for measurer in measurers:\n",
    "            for prompt_size in prompt_sizes:\n",
    "                data = getResult(getMeasurerFilePath(\n",
    "                    framework, measurer, prompt_size))\n",
    "                gpu_usage = getResult(getGPUUsageFilePath(\n",
    "                    framework, measurer, prompt_size))\n",
    "                average = sum(data) / len(data)\n",
    "                max_value = max(data)\n",
    "                min_value = min(data)\n",
    "                std = sum([(x - average) ** 2 for x in data]) / len(data)\n",
    "                df = pd.concat([df, pd.DataFrame({\n",
    "                    \"framework\": framework,\n",
    "                    \"measurer\": measurer,\n",
    "                    \"prompt_size\": prompt_size,\n",
    "                    \"iterations\": len(data),\n",
    "                    \"average\": average,\n",
    "                    \"max\": max_value,\n",
    "                    \"min\": min_value,\n",
    "                    \"std\": std,\n",
    "                    \"gpu_usage\": sum(gpu_usage) / len(gpu_usage)\n",
    "                }, index=[0])], ignore_index=True)\n",
    "\n",
    "    return df\n",
    "\n",
    "\n",
    "data = combineResults()\n",
    "data.to_csv(\"combined_results.csv\", index=False)"
   ]
  }
 ],
 "metadata": {
  "kernelspec": {
   "display_name": "base",
   "language": "python",
   "name": "python3"
  },
  "language_info": {
   "codemirror_mode": {
    "name": "ipython",
    "version": 3
   },
   "file_extension": ".py",
   "mimetype": "text/x-python",
   "name": "python",
   "nbconvert_exporter": "python",
   "pygments_lexer": "ipython3",
   "version": "3.10.14"
  }
 },
 "nbformat": 4,
 "nbformat_minor": 2
}
